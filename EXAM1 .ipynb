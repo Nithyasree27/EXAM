{
 "cells": [
  {
   "cell_type": "markdown",
   "id": "676d9bf8",
   "metadata": {},
   "source": [
    "<h1> Python Programming exam questions </h1>"
   ]
  },
  {
   "cell_type": "markdown",
   "id": "e5088505",
   "metadata": {},
   "source": [
    "<h3>1.Segregate the comments based on positive and negative sentiments</h3>"
   ]
  },
  {
   "cell_type": "code",
   "execution_count": 27,
   "id": "d2910097",
   "metadata": {},
   "outputs": [
    {
     "name": "stdout",
     "output_type": "stream",
     "text": [
      "POSITIVE COMMENTS: ['He is a good boy', 'He is an awesome player', 'She is the best', 'These burgers are really nice']\n",
      "\n",
      " NEGATIVE COMMENTS: ['Food is the worst here', 'This pizza tastes awful']\n"
     ]
    }
   ],
   "source": [
    "pos=['good','awesome','best','nice']\n",
    "neg=['worst','awful']\n",
    "comnts=['He is a good boy','Food is the worst here','He is an awesome player',\n",
    "        'She is the best','This pizza tastes awful','These burgers are really nice']\n",
    "pos_comnts=[]\n",
    "neg_comnts=[]\n",
    "for j in pos:\n",
    "    for i in comnts:\n",
    "        s=i.split(\" \")\n",
    "        for k in s:\n",
    "            if(j==k):\n",
    "                pos_comnts.append(i)\n",
    "for j in neg:\n",
    "    for i in comnts:\n",
    "        s=i.split(\" \")\n",
    "        for k in s:\n",
    "            if(j==k):\n",
    "                neg_comnts.append(i)\n",
    "print(\"POSITIVE COMMENTS:\",pos_comnts)\n",
    "print(\"\\n NEGATIVE COMMENTS:\",neg_comnts)\n",
    "            "
   ]
  },
  {
   "cell_type": "markdown",
   "id": "c8344f93",
   "metadata": {},
   "source": [
    "<h3>2.Dictionary containing three lambda functions<\\h3>"
   ]
  },
  {
   "cell_type": "code",
   "execution_count": 61,
   "id": "dad0fafd",
   "metadata": {},
   "outputs": [
    {
     "name": "stdout",
     "output_type": "stream",
     "text": [
      "Enter a number=64\n",
      "266248.0\n"
     ]
    }
   ],
   "source": [
    "dict1={'Square':lambda a: a *a,'Cube':lambda a: a *a*a,'Squareroot':lambda a : a**0.5 }\n",
    "a=int(input(\"Enter a number=\"))\n",
    "sum=0\n",
    "for i in dict1:\n",
    "    sum=sum+dict1[i](a)\n",
    "print(\"OUTPUT:\",sum)"
   ]
  },
  {
   "cell_type": "markdown",
   "id": "9878e990",
   "metadata": {},
   "source": [
    "<h3>4.Find the words from the list which have their second character in uppercase<\\h3>"
   ]
  },
  {
   "cell_type": "code",
   "execution_count": 58,
   "id": "81695ed2",
   "metadata": {},
   "outputs": [
    {
     "name": "stdout",
     "output_type": "stream",
     "text": [
      "OUTPUT: ['hOw', 'ARe']\n"
     ]
    }
   ],
   "source": [
    "ls=['hello','Dear','hOw','ARe','You']\n",
    "op=[]\n",
    "for j in ls:\n",
    "        if(j[1].isupper()):\n",
    "            op.append(j)\n",
    "print(\"OUTPUT:\",op)"
   ]
  },
  {
   "cell_type": "markdown",
   "id": "6d929f08",
   "metadata": {},
   "source": [
    "<h3> 6.Fetching the words in the string which have their first character in uppercase </h3>"
   ]
  },
  {
   "cell_type": "code",
   "execution_count": 52,
   "id": "a4232fd2",
   "metadata": {},
   "outputs": [
    {
     "name": "stdout",
     "output_type": "stream",
     "text": [
      "OUTPUT: ['Maria', 'Hello', 'World', 'Merry', 'You']\n"
     ]
    }
   ],
   "source": [
    "namesList=[\"santa Maria\",\"Hello World\",\"Merry christmas\",\"tHank You\"]\n",
    "op=[]\n",
    "for i in namesList:\n",
    "    s=i.split(\" \")\n",
    "    for j in s:\n",
    "        if(j[0].isupper()):\n",
    "            op.append(j)\n",
    "print(\"OUTPUT:\",op)"
   ]
  },
  {
   "cell_type": "markdown",
   "id": "0679cc1b",
   "metadata": {},
   "source": [
    "<h3>8.Find cumulative average</h3>"
   ]
  },
  {
   "cell_type": "code",
   "execution_count": 46,
   "id": "d2815a41",
   "metadata": {},
   "outputs": [
    {
     "name": "stdout",
     "output_type": "stream",
     "text": [
      "OUTPUT [9, 7.0, 7.0, 7.5, 6.25]\n"
     ]
    }
   ],
   "source": [
    "from  itertools import accumulate\n",
    "op=[]\n",
    "output=accumulate([9,5,7,8,5],lambda x,y:(x+y)/2)\n",
    "for r in output :\n",
    "    op.append(r)\n",
    "print(\"OUTPUT\",op)"
   ]
  },
  {
   "cell_type": "markdown",
   "id": "60e24ad4",
   "metadata": {},
   "source": [
    "<h3>9.Convert to uppercase using lambda and map functions</h3>"
   ]
  },
  {
   "cell_type": "code",
   "execution_count": 41,
   "id": "c4f812f8",
   "metadata": {},
   "outputs": [
    {
     "name": "stdout",
     "output_type": "stream",
     "text": [
      "['TRUE', 'FALSE', 'TRUE', 'TRUE', 'FALSE', 'FALSE']\n"
     ]
    }
   ],
   "source": [
    "lsbool=['True','FALse','tRUe','tRue','False','faLse']\n",
    "final_list = list(map(lambda x: x.upper(), lsbool))\n",
    "print(final_list)"
   ]
  },
  {
   "cell_type": "markdown",
   "id": "4439f6bb",
   "metadata": {},
   "source": [
    "<h3>10. Part dates from the given list</h3>"
   ]
  },
  {
   "cell_type": "code",
   "execution_count": 39,
   "id": "21c8c9d2",
   "metadata": {},
   "outputs": [
    {
     "name": "stdout",
     "output_type": "stream",
     "text": [
      "OUTPUT : ['1997', '2011', '1993', '2020']\n"
     ]
    }
   ],
   "source": [
    "datesList=['17-12-1997','22-04-2011','01-05-1993','19-06-2020']\n",
    "Output=[]\n",
    "for i in datesList:\n",
    "    s=i.split(\"-\")\n",
    "    Output.append(s[2])\n",
    "print(\"OUTPUT :\",Output)"
   ]
  }
 ],
 "metadata": {
  "kernelspec": {
   "display_name": "Python 3 (ipykernel)",
   "language": "python",
   "name": "python3"
  },
  "language_info": {
   "codemirror_mode": {
    "name": "ipython",
    "version": 3
   },
   "file_extension": ".py",
   "mimetype": "text/x-python",
   "name": "python",
   "nbconvert_exporter": "python",
   "pygments_lexer": "ipython3",
   "version": "3.9.7"
  }
 },
 "nbformat": 4,
 "nbformat_minor": 5
}
